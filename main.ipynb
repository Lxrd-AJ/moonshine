{
 "cells": [
  {
   "cell_type": "markdown",
   "id": "e45efb04",
   "metadata": {},
   "source": [
    "# Finetuning MoonShine in PyTorch\n",
    "\n",
    "## Data\n",
    "Using the Tensorflow mini speech command dataset to get up and running. See https://www.tensorflow.org/tutorials/audio/simple_audio for sources"
   ]
  },
  {
   "cell_type": "code",
   "execution_count": 4,
   "id": "9f8e05f7",
   "metadata": {},
   "outputs": [
    {
     "name": "stdout",
     "output_type": "stream",
     "text": [
      "Downloading Mini Speech Commands dataset...\n",
      "Download complete.\n",
      "Extracting dataset...\n",
      "Extraction complete.\n"
     ]
    }
   ],
   "source": [
    "from download_mini_speech_commands import downloadMiniSpeech\n",
    "\n",
    "downloadMiniSpeech()"
   ]
  }
 ],
 "metadata": {
  "kernelspec": {
   "display_name": ".venv",
   "language": "python",
   "name": "python3"
  },
  "language_info": {
   "codemirror_mode": {
    "name": "ipython",
    "version": 3
   },
   "file_extension": ".py",
   "mimetype": "text/x-python",
   "name": "python",
   "nbconvert_exporter": "python",
   "pygments_lexer": "ipython3",
   "version": "3.12.2"
  }
 },
 "nbformat": 4,
 "nbformat_minor": 5
}
